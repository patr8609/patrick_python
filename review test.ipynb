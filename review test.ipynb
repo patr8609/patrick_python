{
 "cells": [
  {
   "cell_type": "code",
   "execution_count": 21,
   "metadata": {},
   "outputs": [],
   "source": [
    "###1\n",
    "def is_valid_word(word, tiles):\n",
    "    see = 0\n",
    "    word = list(word)\n",
    "    tiles = list(tiles)\n",
    "    for i in range(0,len(word),1):\n",
    "        for j in range(0,len(tiles),1):\n",
    "            if (tiles[j] ==0) :\n",
    "                continue\n",
    "            if (word[i] == tiles[j]):\n",
    "                see = see + 1\n",
    "                tiles[j] = \"0\"\n",
    "                break\n",
    "\n",
    "    if (see == len(word)):\n",
    "        return True\n",
    "    else:\n",
    "        return False"
   ]
  },
  {
   "cell_type": "code",
   "execution_count": 6,
   "metadata": {},
   "outputs": [
    {
     "name": "stdout",
     "output_type": "stream",
     "text": [
      "True\n"
     ]
    }
   ],
   "source": [
    "print(is_valid_word('ART','TKABR'))"
   ]
  },
  {
   "cell_type": "code",
   "execution_count": 5,
   "metadata": {},
   "outputs": [
    {
     "name": "stdout",
     "output_type": "stream",
     "text": [
      "False\n"
     ]
    }
   ],
   "source": [
    "print(is_valid_word('ARTT','TKABR'))"
   ]
  },
  {
   "cell_type": "code",
   "execution_count": 4,
   "metadata": {},
   "outputs": [],
   "source": [
    "def is_valid_word(word, tiles):\n",
    "    for letter in word:\n",
    "        if letter not in tiles:\n",
    "            return False\n",
    "        else:\n",
    "            tiles = tiles.replace(letter,\"\",1)\n",
    "    return True"
   ]
  },
  {
   "cell_type": "code",
   "execution_count": 9,
   "metadata": {},
   "outputs": [
    {
     "data": {
      "text/plain": [
       "False"
      ]
     },
     "execution_count": 9,
     "metadata": {},
     "output_type": "execute_result"
    }
   ],
   "source": [
    "\"AA\" in \"ART\""
   ]
  },
  {
   "cell_type": "code",
   "execution_count": 16,
   "metadata": {},
   "outputs": [
    {
     "data": {
      "text/plain": [
       "3"
      ]
     },
     "execution_count": 16,
     "metadata": {},
     "output_type": "execute_result"
    }
   ],
   "source": [
    "tiles.find(\"BR\")"
   ]
  },
  {
   "cell_type": "code",
   "execution_count": 19,
   "metadata": {},
   "outputs": [
    {
     "name": "stdout",
     "output_type": "stream",
     "text": [
      "B\n",
      "B\n",
      "B\n",
      "B\n",
      "B\n",
      "B\n",
      "B\n",
      "B\n",
      "B\n"
     ]
    }
   ],
   "source": [
    "tiles = 'TKABAAAAR'\n",
    "for l in tiles:\n",
    "    print(tiles[3])"
   ]
  },
  {
   "cell_type": "code",
   "execution_count": 20,
   "metadata": {},
   "outputs": [
    {
     "data": {
      "text/plain": [
       "'TKBAAAAR'"
      ]
     },
     "execution_count": 20,
     "metadata": {},
     "output_type": "execute_result"
    }
   ],
   "source": [
    "tiles.replace(\"A\",\"\",1)"
   ]
  },
  {
   "cell_type": "code",
   "execution_count": 22,
   "metadata": {},
   "outputs": [],
   "source": [
    "def swap_head_and_tail(a_tuple):\n",
    "    if a_tuple==():\n",
    "        return ()\n",
    "    a_list = list(a_tuple)\n",
    "    res = a_list[0]\n",
    "    a_list[0] = a_list[-1]\n",
    "    a_list[-1] = res\n",
    "    return tuple(a_list)\n"
   ]
  },
  {
   "cell_type": "code",
   "execution_count": 25,
   "metadata": {},
   "outputs": [
    {
     "name": "stdout",
     "output_type": "stream",
     "text": [
      "('four', 2.0, 3, '1')\n"
     ]
    }
   ],
   "source": [
    "print(swap_head_and_tail((\"1\",2.0,3,\"four\")))"
   ]
  },
  {
   "cell_type": "code",
   "execution_count": 24,
   "metadata": {},
   "outputs": [],
   "source": [
    "def swap_head_and_tail(a_tuple):\n",
    "    if len(a_tuple) > 1:\n",
    "        return (a_tuple[-1],)+a_tuple[1:-1]+(a_tuple[0],)\n",
    "    else:\n",
    "        return a_tuple"
   ]
  },
  {
   "cell_type": "code",
   "execution_count": 27,
   "metadata": {},
   "outputs": [
    {
     "data": {
      "text/plain": [
       "(1, 2, 3, '1')"
      ]
     },
     "execution_count": 27,
     "metadata": {},
     "output_type": "execute_result"
    }
   ],
   "source": [
    "(1,2,3)+(\"1\",)"
   ]
  },
  {
   "cell_type": "code",
   "execution_count": 32,
   "metadata": {},
   "outputs": [],
   "source": [
    "def find_nearest_repeated_word(s:list)->int:\n",
    "    dist=len(s)\n",
    "    for i in range(0,len(s)):\n",
    "        for j in range(i,len(s)):\n",
    "            if(i!=j):\n",
    "                print(i)\n",
    "                print(j)\n",
    "                if(s[i]==s[j]):\n",
    "                    if dist>(j-i):\n",
    "                        dist = (j-i)\n",
    "    if (dist == len(s)):\n",
    "        return -1\n",
    "    else:\n",
    "        return dist"
   ]
  },
  {
   "cell_type": "code",
   "execution_count": 36,
   "metadata": {},
   "outputs": [
    {
     "name": "stdout",
     "output_type": "stream",
     "text": [
      "4\n"
     ]
    }
   ],
   "source": [
    "print(find_nearest_repeated_word([\"all\", \"work\", \"and\", \"no\", \"play\", \"makes\", \"for\", \"no\"]))"
   ]
  },
  {
   "cell_type": "code",
   "execution_count": 49,
   "metadata": {},
   "outputs": [],
   "source": [
    "# version 1\n",
    "# def find_nearest_repeated_word(s):\n",
    "#     words_latest_index ={}\n",
    "#     distance = float('inf')\n",
    "#     for index in range(len(s)):\n",
    "#         word = s[index]\n",
    "#         if word in words_latest_index:\n",
    "#             distance = min(distance, index - words_latest_index[word])\n",
    "#         words_latest_index[word] = index\n",
    "#         print(words_latest_index)\n",
    "#     return distance if distance != float('inf') else -1\n",
    "\n",
    "#  version 2\n",
    "def find_nearest_repeated_word(s):\n",
    "    words_latest_index ={}\n",
    "    distance = float('inf')\n",
    "    for index, word in enumerate(s):\n",
    "        if word in words_latest_index:\n",
    "            distance = min(distance, index - words_latest_index[word])\n",
    "        words_latest_index[word] = index\n",
    "        print(words_latest_index)\n",
    "    return distance if distance != float('inf') else -1"
   ]
  },
  {
   "cell_type": "code",
   "execution_count": 50,
   "metadata": {},
   "outputs": [
    {
     "data": {
      "text/plain": [
       "inf"
      ]
     },
     "execution_count": 50,
     "metadata": {},
     "output_type": "execute_result"
    }
   ],
   "source": [
    "distance = float('inf')\n",
    "distance"
   ]
  },
  {
   "cell_type": "code",
   "execution_count": 51,
   "metadata": {},
   "outputs": [
    {
     "name": "stdout",
     "output_type": "stream",
     "text": [
      "{'A': 0}\n",
      "{'A': 0, 'B': 1}\n",
      "{'A': 0, 'B': 1, 'C': 2}\n",
      "{'A': 3, 'B': 1, 'C': 2}\n",
      "{'A': 3, 'B': 1, 'C': 4}\n",
      "2\n"
     ]
    }
   ],
   "source": [
    "print(find_nearest_repeated_word([\"A\",\"B\",\"C\",\"A\",\"C\"]))"
   ]
  },
  {
   "cell_type": "code",
   "execution_count": 52,
   "metadata": {},
   "outputs": [
    {
     "data": {
      "text/plain": [
       "[(0, 'A'), (1, 'B'), (2, 'C'), (3, 'A'), (4, 'C')]"
      ]
     },
     "execution_count": 52,
     "metadata": {},
     "output_type": "execute_result"
    }
   ],
   "source": [
    "l = [\"A\",\"B\",\"C\",\"A\",\"C\"]\n",
    "list(enumerate(l))"
   ]
  },
  {
   "cell_type": "code",
   "execution_count": 55,
   "metadata": {},
   "outputs": [
    {
     "name": "stdout",
     "output_type": "stream",
     "text": [
      "0\n",
      "A\n",
      "1\n",
      "B\n",
      "2\n",
      "C\n",
      "3\n",
      "A\n",
      "4\n",
      "C\n"
     ]
    }
   ],
   "source": [
    "for a,b in enumerate(l):\n",
    "    print(a)\n",
    "    print(b)"
   ]
  },
  {
   "cell_type": "code",
   "execution_count": 57,
   "metadata": {},
   "outputs": [],
   "source": [
    "a= dict(enumerate(l))"
   ]
  },
  {
   "cell_type": "code",
   "execution_count": 60,
   "metadata": {},
   "outputs": [
    {
     "data": {
      "text/plain": [
       "True"
      ]
     },
     "execution_count": 60,
     "metadata": {},
     "output_type": "execute_result"
    }
   ],
   "source": [
    "2 in a"
   ]
  },
  {
   "cell_type": "code",
   "execution_count": 64,
   "metadata": {},
   "outputs": [
    {
     "data": {
      "text/plain": [
       "{'HI': 3, 3: 3}"
      ]
     },
     "execution_count": 64,
     "metadata": {},
     "output_type": "execute_result"
    }
   ],
   "source": [
    "c = {}\n",
    "c[\"HI\"] = 3\n",
    "c[3] = 3\n",
    "c"
   ]
  },
  {
   "cell_type": "code",
   "execution_count": 72,
   "metadata": {},
   "outputs": [
    {
     "data": {
      "text/plain": [
       "3"
      ]
     },
     "execution_count": 72,
     "metadata": {},
     "output_type": "execute_result"
    }
   ],
   "source": [
    "c.get(\"HI\")"
   ]
  },
  {
   "cell_type": "code",
   "execution_count": 65,
   "metadata": {},
   "outputs": [],
   "source": [
    "def two_sum(nums:list, target:int)->list:\n",
    "    for i in range(0,len(nums)):\n",
    "        for j in range(i,len(nums)):\n",
    "            if(i!=j):\n",
    "                if(nums[i]+nums[j])==target:\n",
    "                        ans = [i,j]\n",
    "                        return ans\n",
    "    \n",
    "    ans = [-1,-1]\n",
    "    return ans"
   ]
  },
  {
   "cell_type": "code",
   "execution_count": 86,
   "metadata": {},
   "outputs": [
    {
     "name": "stdout",
     "output_type": "stream",
     "text": [
      "-1\n",
      "0\n",
      "{2: 0}\n",
      "-1\n",
      "1\n",
      "{2: 0, 11: 1}\n",
      "-1\n",
      "2\n",
      "{2: 0, 11: 1, 15: 2}\n",
      "0\n",
      "3\n",
      "[0, 3]\n"
     ]
    }
   ],
   "source": [
    "print(two_sum([2,11,15,7],9))"
   ]
  },
  {
   "cell_type": "code",
   "execution_count": 84,
   "metadata": {},
   "outputs": [],
   "source": [
    "\n",
    "def two_sum(nums:list, target:int)->list:\n",
    "    d = {}\n",
    "    for i in range(len(nums)):\n",
    "        complement = target - nums[i]\n",
    "        complement_idx = d.get(complement, -1)\n",
    "        if complement_idx != -1:\n",
    "            print(complement_idx)\n",
    "            print(i)\n",
    "            return [complement_idx, i]\n",
    "        d[nums[i]] = i\n",
    "        print(complement_idx)\n",
    "        print(i)\n",
    "        print(d)\n",
    "    return [-1, -1]"
   ]
  },
  {
   "cell_type": "code",
   "execution_count": 77,
   "metadata": {},
   "outputs": [
    {
     "data": {
      "text/plain": [
       "False"
      ]
     },
     "execution_count": 77,
     "metadata": {},
     "output_type": "execute_result"
    }
   ],
   "source": [
    "d = {2: 0, 7: 1, 11: 2, 15: 3}\n",
    "3 in d"
   ]
  },
  {
   "cell_type": "code",
   "execution_count": 87,
   "metadata": {},
   "outputs": [],
   "source": [
    "def remove_element(nums,val):\n",
    "    num = 0\n",
    "    for i in range(0,len(nums),1):\n",
    "        if nums[i] == val:\n",
    "            num = num + 1\n",
    "\n",
    "    for i in range(0,num,1):\n",
    "        nums.remove(val)\n",
    "    return len(nums)"
   ]
  },
  {
   "cell_type": "code",
   "execution_count": 91,
   "metadata": {},
   "outputs": [
    {
     "name": "stdout",
     "output_type": "stream",
     "text": [
      "2\n",
      "[2, 2, 3]\n",
      "[2, 2]\n",
      "2 [2, 2]\n"
     ]
    }
   ],
   "source": [
    "nums = [3,2,2,3]\n",
    "print(remove_element(nums,3),nums)"
   ]
  },
  {
   "cell_type": "code",
   "execution_count": 90,
   "metadata": {},
   "outputs": [],
   "source": [
    "def remove_element(nums, val):\n",
    "    print(nums.count(val))\n",
    "    for i in range(nums.count(val)):\n",
    "        nums.remove(val)\n",
    "        print(nums)\n",
    "    return len(nums)"
   ]
  },
  {
   "cell_type": "code",
   "execution_count": 92,
   "metadata": {},
   "outputs": [],
   "source": [
    "def reverse_digits(x):\n",
    "    if((x < (-2**16)) or (x>(2**16-1))):\n",
    "        return 0\n",
    "    tag=0\n",
    "    a = 0\n",
    "    s = 0\n",
    "    if(x<0):\n",
    "        tag=1\n",
    "        x=abs(x)\n",
    "    while(x>0):\n",
    "        s = 10 * s\n",
    "        r = x % 10\n",
    "        x = int(x/10)\n",
    "        s = s + r\n",
    "    if(tag==1):\n",
    "        return(s*(-1))\n",
    "    else:\n",
    "        return(s)\n",
    "    "
   ]
  },
  {
   "cell_type": "code",
   "execution_count": 95,
   "metadata": {},
   "outputs": [
    {
     "name": "stdout",
     "output_type": "stream",
     "text": [
      "24\n"
     ]
    }
   ],
   "source": [
    "print(reverse_digits(42))"
   ]
  },
  {
   "cell_type": "code",
   "execution_count": 94,
   "metadata": {},
   "outputs": [
    {
     "name": "stdout",
     "output_type": "stream",
     "text": [
      "-413\n"
     ]
    }
   ],
   "source": [
    "print(reverse_digits(-314))"
   ]
  },
  {
   "cell_type": "code",
   "execution_count": null,
   "metadata": {},
   "outputs": [],
   "source": [
    "# Version 1\n",
    "# def reverse_digits(x):\n",
    "#     result = 0\n",
    "#     x_remaining = abs(x)\n",
    "#     while x_remaining != 0:\n",
    "#         result = result * 10 + x_remaining % 10\n",
    "#         x_remaining = x_remaining//10\n",
    "#     if x < 0 and result <= 2**31:\n",
    "#         return -result\n",
    "#     elif x >=0 and result < 2**31:\n",
    "#         return result\n",
    "#     else:\n",
    "#         return 0\n",
    "# Version 2\n",
    "def reverse_digits(x):\n",
    "    if x >= 0:\n",
    "        y = int(str(x)[::-1])\n",
    "    else:\n",
    "        y = int(\"-\"+str(abs(x))[::-1])\n",
    "    if -(2**31) <= y < 2**31 :\n",
    "        return y\n",
    "    else:\n",
    "        return 0"
   ]
  },
  {
   "cell_type": "code",
   "execution_count": 97,
   "metadata": {},
   "outputs": [
    {
     "data": {
      "text/plain": [
       "3"
      ]
     },
     "execution_count": 97,
     "metadata": {},
     "output_type": "execute_result"
    }
   ],
   "source": [
    "31//10"
   ]
  },
  {
   "cell_type": "code",
   "execution_count": 100,
   "metadata": {},
   "outputs": [
    {
     "data": {
      "text/plain": [
       "-321"
      ]
     },
     "execution_count": 100,
     "metadata": {},
     "output_type": "execute_result"
    }
   ],
   "source": [
    "x = 123\n",
    "int(\"-\" + str(x)[::-1])"
   ]
  },
  {
   "cell_type": "code",
   "execution_count": 101,
   "metadata": {},
   "outputs": [],
   "source": [
    "def get_largest_cycle(i, j):\n",
    "    if(i > j):\n",
    "        temp = i\n",
    "        i = j\n",
    "        j = temp\n",
    "    if((0< i < 1000000) and (0< j < 1000000)):\n",
    "        l = []\n",
    "        for a in range(i,j+1,1):\n",
    "            s = 1\n",
    "            while( a!=1 ):\n",
    "                s = s + 1\n",
    "\n",
    "                if (a % 2 == 1):\n",
    "                    a = 3*a + 1\n",
    "                else :\n",
    "                    a = int(a/2)\n",
    "                l.append(s)\n",
    "        return(max(l))\n",
    "\n"
   ]
  },
  {
   "cell_type": "code",
   "execution_count": 102,
   "metadata": {},
   "outputs": [
    {
     "name": "stdout",
     "output_type": "stream",
     "text": [
      "20\n"
     ]
    }
   ],
   "source": [
    "\n",
    "print(get_largest_cycle(1,10))"
   ]
  },
  {
   "cell_type": "code",
   "execution_count": null,
   "metadata": {},
   "outputs": [],
   "source": [
    "def get_largest_cycle(i, j):\n",
    "    max_len = 0\n",
    "    start = min(i, j)\n",
    "    end = max(i, j)\n",
    "    for value in range(start, end+1):\n",
    "        cycle_len = 1\n",
    "        n = value\n",
    "        while n != 1:\n",
    "            if (n & 1 == 0): # it's bitwise operator version, remainder version: (n % 2 == 0)\n",
    "                n = int(n/2)\n",
    "            else:\n",
    "                n = 3*n + 1\n",
    "            cycle_len += 1\n",
    "        max_len = max(max_len, cycle_len)\n",
    "    return max_len"
   ]
  },
  {
   "cell_type": "code",
   "execution_count": 103,
   "metadata": {},
   "outputs": [
    {
     "data": {
      "text/plain": [
       "11"
      ]
     },
     "execution_count": 103,
     "metadata": {},
     "output_type": "execute_result"
    }
   ],
   "source": [
    "max(10,11)"
   ]
  },
  {
   "cell_type": "code",
   "execution_count": 104,
   "metadata": {},
   "outputs": [],
   "source": [
    "def can_form_palindrome(s:str)->bool:\n",
    "    r = 0\n",
    "    lists = list(s)\n",
    "    for i in range(0,len(lists),1):\n",
    "        if(lists.count(lists[i])) % 2 ==1:\n",
    "            r = r + 1\n",
    "    if ( r > 1 ):\n",
    "        return False\n",
    "    else :\n",
    "        return True"
   ]
  },
  {
   "cell_type": "code",
   "execution_count": 119,
   "metadata": {},
   "outputs": [
    {
     "name": "stdout",
     "output_type": "stream",
     "text": [
      "{'e': 2, 'd': 2, 'i': 2, 'f': 3}\n",
      "True\n"
     ]
    }
   ],
   "source": [
    "print(can_form_palindrome(\"edifffied\"))"
   ]
  },
  {
   "cell_type": "code",
   "execution_count": 120,
   "metadata": {},
   "outputs": [],
   "source": [
    "def can_form_palindrome(s:str)->bool:\n",
    "    freq = {}\n",
    "    for c in s:\n",
    "        if c in freq:\n",
    "            freq[c] += 1\n",
    "        else:\n",
    "            freq[c] = 1\n",
    "    print(freq)\n",
    "    odd_count = 0\n",
    "    for k in freq:\n",
    "        if freq[k] & 1 == 1:\n",
    "            odd_count += 1\n",
    "            if odd_count > 1:\n",
    "                return False\n",
    "    return True"
   ]
  },
  {
   "cell_type": "code",
   "execution_count": 112,
   "metadata": {},
   "outputs": [
    {
     "data": {
      "text/plain": [
       "0"
      ]
     },
     "execution_count": 112,
     "metadata": {},
     "output_type": "execute_result"
    }
   ],
   "source": [
    "20 & 1"
   ]
  },
  {
   "cell_type": "code",
   "execution_count": 115,
   "metadata": {},
   "outputs": [
    {
     "data": {
      "text/plain": [
       "1"
      ]
     },
     "execution_count": 115,
     "metadata": {},
     "output_type": "execute_result"
    }
   ],
   "source": [
    "1 & 1"
   ]
  },
  {
   "cell_type": "code",
   "execution_count": 123,
   "metadata": {},
   "outputs": [
    {
     "name": "stdout",
     "output_type": "stream",
     "text": [
      "a\n"
     ]
    }
   ],
   "source": [
    "if 1 :\n",
    "    print(\"a\")"
   ]
  },
  {
   "cell_type": "code",
   "execution_count": 129,
   "metadata": {},
   "outputs": [
    {
     "data": {
      "text/plain": [
       "0"
      ]
     },
     "execution_count": 129,
     "metadata": {},
     "output_type": "execute_result"
    }
   ],
   "source": [
    "12&1"
   ]
  },
  {
   "cell_type": "code",
   "execution_count": 134,
   "metadata": {},
   "outputs": [
    {
     "data": {
      "text/plain": [
       "5"
      ]
     },
     "execution_count": 134,
     "metadata": {},
     "output_type": "execute_result"
    }
   ],
   "source": [
    "4|1"
   ]
  },
  {
   "cell_type": "code",
   "execution_count": 131,
   "metadata": {},
   "outputs": [
    {
     "data": {
      "text/plain": [
       "1"
      ]
     },
     "execution_count": 131,
     "metadata": {},
     "output_type": "execute_result"
    }
   ],
   "source": [
    "1&1"
   ]
  },
  {
   "cell_type": "code",
   "execution_count": 137,
   "metadata": {},
   "outputs": [],
   "source": [
    "def is_jolly_jump(nums:list)->bool:\n",
    "    a = []\n",
    "    for i in range(0,len(nums)-1,1):\n",
    "        dif = abs(nums[i]-nums[i+1])\n",
    "        a.append(dif)\n",
    "    a.sort()\n",
    "    print(a)\n",
    "    b = range(1,len(nums),1)\n",
    "    for i in range(0,len(a),1):\n",
    "        if(a[i]!=b[i]):\n",
    "            if(len(nums)>1):\n",
    "                return False\n",
    "    return True"
   ]
  },
  {
   "cell_type": "code",
   "execution_count": 147,
   "metadata": {},
   "outputs": [
    {
     "name": "stdout",
     "output_type": "stream",
     "text": [
      "{3}\n",
      "{1, 3}\n",
      "False\n"
     ]
    }
   ],
   "source": [
    "print(is_jolly_jump([1,4,3,2]))"
   ]
  },
  {
   "cell_type": "code",
   "execution_count": 140,
   "metadata": {},
   "outputs": [],
   "source": [
    "def is_jolly_jump(nums:list)->bool:\n",
    "    diff_set = set()\n",
    "    for i in range(len(nums)-1):\n",
    "        diff = abs(nums[i]-nums[i+1])\n",
    "        if 0 < diff < len(nums):\n",
    "            if diff in diff_set:\n",
    "                return False\n",
    "            else:\n",
    "                diff_set.add(diff)       \n",
    "        else:\n",
    "            return False\n",
    "        print(diff_set) \n",
    "    return True\n"
   ]
  }
 ],
 "metadata": {
  "kernelspec": {
   "display_name": "Python 3",
   "language": "python",
   "name": "python3"
  },
  "language_info": {
   "codemirror_mode": {
    "name": "ipython",
    "version": 3
   },
   "file_extension": ".py",
   "mimetype": "text/x-python",
   "name": "python",
   "nbconvert_exporter": "python",
   "pygments_lexer": "ipython3",
   "version": "3.6.8"
  }
 },
 "nbformat": 4,
 "nbformat_minor": 2
}
