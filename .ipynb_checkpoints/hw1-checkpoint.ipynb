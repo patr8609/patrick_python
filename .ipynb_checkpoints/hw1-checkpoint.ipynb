{
 "cells": [
  {
   "cell_type": "code",
   "execution_count": 36,
   "metadata": {},
   "outputs": [],
   "source": [
    "import pandas as pd\n",
    "import requests\n",
    "from bs4 import BeautifulSoup as BS"
   ]
  },
  {
   "cell_type": "code",
   "execution_count": 37,
   "metadata": {},
   "outputs": [],
   "source": [
    "url = 'https://www.ptt.cc/bbs/movie/index.html'\n",
    "res =requests.get(url)"
   ]
  },
  {
   "cell_type": "code",
   "execution_count": 38,
   "metadata": {},
   "outputs": [
    {
     "name": "stderr",
     "output_type": "stream",
     "text": [
      "C:\\Users\\Owner\\Anaconda3\\lib\\site-packages\\urllib3\\connectionpool.py:847: InsecureRequestWarning: Unverified HTTPS request is being made. Adding certificate verification is strongly advised. See: https://urllib3.readthedocs.io/en/latest/advanced-usage.html#ssl-warnings\n",
      "  InsecureRequestWarning)\n"
     ]
    }
   ],
   "source": [
    "res = requests.get(url, cookies=dict(over18=\"1\"), verify=False)"
   ]
  },
  {
   "cell_type": "code",
   "execution_count": 39,
   "metadata": {},
   "outputs": [
    {
     "name": "stdout",
     "output_type": "stream",
     "text": [
      "<!DOCTYPE html>\n",
      "<html>\n",
      "\t<head>\n",
      "\t\t<meta charset=\"utf-8\">\n",
      "\t\t\n",
      "\n",
      "<meta name=\"viewport\" content=\"width=device-width, initial-scale=1\">\n",
      "\n",
      "<title>看板 movie 文章列表 - 批踢踢實業坊</title>\n",
      "\n",
      "<link rel=\"stylesheet\" type=\"text/css\" href=\"//images.ptt.cc/bbs/v2.27/bbs-common.css\">\n",
      "<link rel=\"stylesheet\" type=\"text/css\" href=\"//images.ptt.cc/bbs/v2.27/bbs-base.css\" media=\"screen\">\n",
      "<link rel=\"stylesheet\" type=\"text/css\" href=\"//images.ptt.cc/bbs/v2.27/bbs-custom.css\">\n",
      "<link rel=\"stylesheet\" type=\"text/css\" href=\"//images.\n"
     ]
    }
   ],
   "source": [
    "print(res.text[:500])"
   ]
  },
  {
   "cell_type": "code",
   "execution_count": 40,
   "metadata": {},
   "outputs": [],
   "source": [
    "soup = BS(res.text)\n",
    "title_list = [e.text for e in soup.select('.title')]\n",
    "authour_list = [e.text for e in soup.select('.author')]\n",
    "date_list = [e.text for e in soup.select('.date')]\n",
    "push_list = [e.text for e in soup.select('.nrec')]\n",
    "url_list = [e['href'] for e in soup.select('.title > a')]\n",
    "\n",
    "df = pd.DataFrame()\n",
    "df['push'] = push_list\n",
    "df['date'] = date_list\n",
    "df['title'] = title_list\n",
    "df['author'] = authour_list\n",
    "# df['url'] = url_list"
   ]
  },
  {
   "cell_type": "code",
   "execution_count": 41,
   "metadata": {},
   "outputs": [
    {
     "data": {
      "text/plain": [
       "'/bbs/movie/M.1583148039.A.55F.html'"
      ]
     },
     "execution_count": 41,
     "metadata": {},
     "output_type": "execute_result"
    }
   ],
   "source": [
    "soup.select('.title')[0].select('a')[0].get('href')"
   ]
  },
  {
   "cell_type": "code",
   "execution_count": 42,
   "metadata": {},
   "outputs": [
    {
     "name": "stdout",
     "output_type": "stream",
     "text": [
      "<a href=\"/bbs/movie/M.1583148039.A.55F.html\">[討論] 愛爾蘭人是不是已經代表黑幫電影的謝幕？</a>\n",
      "<a href=\"/bbs/movie/M.1583152032.A.A9F.html\">Re: [閒聊] 還有人記得2000年上映的《透明人》嗎?</a>\n",
      "<a href=\"/bbs/movie/M.1583152383.A.55D.html\">Re: [討論] 電影史上沒有魅力的男鬼</a>\n",
      "[]\n",
      "<a href=\"/bbs/movie/M.1583153613.A.382.html\">[新聞] 《隱形人》導演雷沃納爾與布倫屋簽署全面</a>\n",
      "<a href=\"/bbs/movie/M.1583154062.A.8FD.html\">[新聞] 「獵鷹」安東尼麥凱：電影人都不再拍電影</a>\n",
      "<a href=\"/bbs/movie/M.1583154078.A.1CB.html\">[大負雷]1917 </a>\n",
      "<a href=\"/bbs/movie/M.1559611458.A.DCA.html\">[公告] 板規 2020/03/01 (增加14.1)</a>\n",
      "<a href=\"/bbs/movie/M.1565855832.A.0A7.html\">[公告] 板規新增每日發文上限規定</a>\n",
      "<a href=\"/bbs/movie/M.1576565795.A.547.html\">[公告] 獎季發文限制放寬</a>\n",
      "<a href=\"/bbs/movie/M.1578684521.A.1B8.html\">[公告] 關於跑步哥</a>\n"
     ]
    }
   ],
   "source": [
    "url_list = [] \n",
    "for e in soup.select('.title'):\n",
    "    try:\n",
    "        url_list.append(e.select('a')[0]['href'])\n",
    "        print(e.select('a')[0])\n",
    "    except IndexError:\n",
    "        url_list.append(None)\n",
    "        print(e.select('a'))"
   ]
  },
  {
   "cell_type": "code",
   "execution_count": 43,
   "metadata": {},
   "outputs": [],
   "source": [
    "df['url'] = url_list"
   ]
  },
  {
   "cell_type": "code",
   "execution_count": 44,
   "metadata": {},
   "outputs": [
    {
     "data": {
      "text/html": [
       "<div>\n",
       "<style scoped>\n",
       "    .dataframe tbody tr th:only-of-type {\n",
       "        vertical-align: middle;\n",
       "    }\n",
       "\n",
       "    .dataframe tbody tr th {\n",
       "        vertical-align: top;\n",
       "    }\n",
       "\n",
       "    .dataframe thead th {\n",
       "        text-align: right;\n",
       "    }\n",
       "</style>\n",
       "<table border=\"1\" class=\"dataframe\">\n",
       "  <thead>\n",
       "    <tr style=\"text-align: right;\">\n",
       "      <th></th>\n",
       "      <th>push</th>\n",
       "      <th>date</th>\n",
       "      <th>title</th>\n",
       "      <th>author</th>\n",
       "      <th>url</th>\n",
       "    </tr>\n",
       "  </thead>\n",
       "  <tbody>\n",
       "    <tr>\n",
       "      <th>0</th>\n",
       "      <td>19</td>\n",
       "      <td>3/02</td>\n",
       "      <td>\\n[討論] 愛爾蘭人是不是已經代表黑幫電影的謝幕？\\n</td>\n",
       "      <td>Kevinsun</td>\n",
       "      <td>/bbs/movie/M.1583148039.A.55F.html</td>\n",
       "    </tr>\n",
       "    <tr>\n",
       "      <th>1</th>\n",
       "      <td>1</td>\n",
       "      <td>3/02</td>\n",
       "      <td>\\nRe: [閒聊] 還有人記得2000年上映的《透明人》嗎?\\n</td>\n",
       "      <td>sonans</td>\n",
       "      <td>/bbs/movie/M.1583152032.A.A9F.html</td>\n",
       "    </tr>\n",
       "    <tr>\n",
       "      <th>2</th>\n",
       "      <td></td>\n",
       "      <td>3/02</td>\n",
       "      <td>\\nRe: [討論] 電影史上沒有魅力的男鬼\\n</td>\n",
       "      <td>hass231470</td>\n",
       "      <td>/bbs/movie/M.1583152383.A.55D.html</td>\n",
       "    </tr>\n",
       "    <tr>\n",
       "      <th>3</th>\n",
       "      <td></td>\n",
       "      <td>3/02</td>\n",
       "      <td>\\n\\t\\t\\t\\n\\t\\t\\t\\t(本文已被刪除) [ppacers]\\n\\t\\t\\t\\n...</td>\n",
       "      <td>-</td>\n",
       "      <td>None</td>\n",
       "    </tr>\n",
       "    <tr>\n",
       "      <th>4</th>\n",
       "      <td></td>\n",
       "      <td>3/02</td>\n",
       "      <td>\\n[新聞] 《隱形人》導演雷沃納爾與布倫屋簽署全面\\n</td>\n",
       "      <td>hahaha0204</td>\n",
       "      <td>/bbs/movie/M.1583153613.A.382.html</td>\n",
       "    </tr>\n",
       "    <tr>\n",
       "      <th>5</th>\n",
       "      <td></td>\n",
       "      <td>3/02</td>\n",
       "      <td>\\n[新聞] 「獵鷹」安東尼麥凱：電影人都不再拍電影\\n</td>\n",
       "      <td>hahaha0204</td>\n",
       "      <td>/bbs/movie/M.1583154062.A.8FD.html</td>\n",
       "    </tr>\n",
       "    <tr>\n",
       "      <th>6</th>\n",
       "      <td></td>\n",
       "      <td>3/02</td>\n",
       "      <td>\\n[大負雷]1917 \\n</td>\n",
       "      <td>ppacers</td>\n",
       "      <td>/bbs/movie/M.1583154078.A.1CB.html</td>\n",
       "    </tr>\n",
       "    <tr>\n",
       "      <th>7</th>\n",
       "      <td>26</td>\n",
       "      <td>6/04</td>\n",
       "      <td>\\n[公告] 板規 2020/03/01 (增加14.1)\\n</td>\n",
       "      <td>ckshchen</td>\n",
       "      <td>/bbs/movie/M.1559611458.A.DCA.html</td>\n",
       "    </tr>\n",
       "    <tr>\n",
       "      <th>8</th>\n",
       "      <td>2</td>\n",
       "      <td>8/15</td>\n",
       "      <td>\\n[公告] 板規新增每日發文上限規定\\n</td>\n",
       "      <td>hhwang</td>\n",
       "      <td>/bbs/movie/M.1565855832.A.0A7.html</td>\n",
       "    </tr>\n",
       "    <tr>\n",
       "      <th>9</th>\n",
       "      <td>1</td>\n",
       "      <td>12/17</td>\n",
       "      <td>\\n[公告] 獎季發文限制放寬\\n</td>\n",
       "      <td>hhwang</td>\n",
       "      <td>/bbs/movie/M.1576565795.A.547.html</td>\n",
       "    </tr>\n",
       "    <tr>\n",
       "      <th>10</th>\n",
       "      <td>16</td>\n",
       "      <td>1/11</td>\n",
       "      <td>\\n[公告] 關於跑步哥\\n</td>\n",
       "      <td>ckshchen</td>\n",
       "      <td>/bbs/movie/M.1578684521.A.1B8.html</td>\n",
       "    </tr>\n",
       "  </tbody>\n",
       "</table>\n",
       "</div>"
      ],
      "text/plain": [
       "   push   date                                              title      author  \\\n",
       "0    19   3/02                       \\n[討論] 愛爾蘭人是不是已經代表黑幫電影的謝幕？\\n    Kevinsun   \n",
       "1     1   3/02                  \\nRe: [閒聊] 還有人記得2000年上映的《透明人》嗎?\\n      sonans   \n",
       "2         3/02                           \\nRe: [討論] 電影史上沒有魅力的男鬼\\n  hass231470   \n",
       "3         3/02  \\n\\t\\t\\t\\n\\t\\t\\t\\t(本文已被刪除) [ppacers]\\n\\t\\t\\t\\n...           -   \n",
       "4         3/02                       \\n[新聞] 《隱形人》導演雷沃納爾與布倫屋簽署全面\\n  hahaha0204   \n",
       "5         3/02                       \\n[新聞] 「獵鷹」安東尼麥凱：電影人都不再拍電影\\n  hahaha0204   \n",
       "6         3/02                                     \\n[大負雷]1917 \\n     ppacers   \n",
       "7    26   6/04                    \\n[公告] 板規 2020/03/01 (增加14.1)\\n    ckshchen   \n",
       "8     2   8/15                              \\n[公告] 板規新增每日發文上限規定\\n      hhwang   \n",
       "9     1  12/17                                  \\n[公告] 獎季發文限制放寬\\n      hhwang   \n",
       "10   16   1/11                                     \\n[公告] 關於跑步哥\\n    ckshchen   \n",
       "\n",
       "                                   url  \n",
       "0   /bbs/movie/M.1583148039.A.55F.html  \n",
       "1   /bbs/movie/M.1583152032.A.A9F.html  \n",
       "2   /bbs/movie/M.1583152383.A.55D.html  \n",
       "3                                 None  \n",
       "4   /bbs/movie/M.1583153613.A.382.html  \n",
       "5   /bbs/movie/M.1583154062.A.8FD.html  \n",
       "6   /bbs/movie/M.1583154078.A.1CB.html  \n",
       "7   /bbs/movie/M.1559611458.A.DCA.html  \n",
       "8   /bbs/movie/M.1565855832.A.0A7.html  \n",
       "9   /bbs/movie/M.1576565795.A.547.html  \n",
       "10  /bbs/movie/M.1578684521.A.1B8.html  "
      ]
     },
     "execution_count": 44,
     "metadata": {},
     "output_type": "execute_result"
    }
   ],
   "source": [
    "df"
   ]
  },
  {
   "cell_type": "code",
   "execution_count": 45,
   "metadata": {},
   "outputs": [
    {
     "data": {
      "text/plain": [
       "push      object\n",
       "date      object\n",
       "title     object\n",
       "author    object\n",
       "url       object\n",
       "dtype: object"
      ]
     },
     "execution_count": 45,
     "metadata": {},
     "output_type": "execute_result"
    }
   ],
   "source": [
    "df.dtypes"
   ]
  }
 ],
 "metadata": {
  "kernelspec": {
   "display_name": "Python 3",
   "language": "python",
   "name": "python3"
  },
  "language_info": {
   "codemirror_mode": {
    "name": "ipython",
    "version": 3
   },
   "file_extension": ".py",
   "mimetype": "text/x-python",
   "name": "python",
   "nbconvert_exporter": "python",
   "pygments_lexer": "ipython3",
   "version": "3.6.8"
  }
 },
 "nbformat": 4,
 "nbformat_minor": 2
}
